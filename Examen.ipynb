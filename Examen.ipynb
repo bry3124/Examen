{
  "nbformat": 4,
  "nbformat_minor": 0,
  "metadata": {
    "colab": {
      "provenance": []
    },
    "kernelspec": {
      "name": "python3",
      "display_name": "Python 3"
    },
    "language_info": {
      "name": "python"
    }
  },
  "cells": [
    {
      "cell_type": "markdown",
      "source": [
        "# **Pregunta 1**"
      ],
      "metadata": {
        "id": "O5wXfubVyIaU"
      }
    },
    {
      "cell_type": "code",
      "source": [
        "a = [1,2,3,4,5]\n",
        "\n",
        "nueva_lista = [] #Definimos una nueva lista para gurdar los 2 primeros numeros que encuentre el bucle\n",
        "def listado(a): #Definimos la funcion donde el parametro es la lista\n",
        "  for i in range(2): #Recorre la lista 2 veces para encontrar los 2 primeros numeros\n",
        "      nueva_lista.append(a[i]) #añade los numeros econtrados a la nueva lista\n",
        "  print(nueva_lista[0],nueva_lista[1]) #Imprime la posicion 1 y 2 de la nueva lista\n",
        "\n",
        "listado(a) #Llamamos la funcion"
      ],
      "metadata": {
        "colab": {
          "base_uri": "https://localhost:8080/"
        },
        "id": "oOsn63Aoxoos",
        "outputId": "cddc69c1-f0b7-4e15-acbf-f7ad12a751c9"
      },
      "execution_count": 36,
      "outputs": [
        {
          "output_type": "stream",
          "name": "stdout",
          "text": [
            "1 2\n"
          ]
        }
      ]
    },
    {
      "cell_type": "markdown",
      "source": [
        "# **Pregunta 2**"
      ],
      "metadata": {
        "id": "ycb-kuBnyMhj"
      }
    },
    {
      "cell_type": "code",
      "execution_count": 12,
      "metadata": {
        "colab": {
          "base_uri": "https://localhost:8080/"
        },
        "id": "uIALKWnXp9ar",
        "outputId": "3f5edd2d-eb32-47ca-f017-0b97497078e7"
      },
      "outputs": [
        {
          "output_type": "stream",
          "name": "stdout",
          "text": [
            "{'nombre': 'Bryan'}\n"
          ]
        }
      ],
      "source": [
        "nombres = [1,2,3,{\"nombre\":\"Bryan\"},4,5]\n",
        "\n",
        "print(a[3])\n",
        "\n",
        "#Da el resultado porque de la lista \"nombres\" imprimimos la posicion 3\n",
        "#en la cual se encuentra el diccionario"
      ]
    },
    {
      "cell_type": "markdown",
      "source": [
        "# **Pregunta 3**"
      ],
      "metadata": {
        "id": "BL5UeUUyyb5L"
      }
    },
    {
      "cell_type": "code",
      "source": [
        "#los bucles en python se utilizan para recorrer listas o diccioniarios y obtener las informacion que necesites.\n",
        "#Tambien se utliza para repetir un bloque de codigo un numero determinado de veces.\n",
        "\n",
        "\n",
        "#Ejemplo\n",
        "\n",
        "\n",
        "notas = [4.0,4.3,5.0]\n",
        "\n",
        "for nota in notas:\n",
        "  print(nota)\n",
        "\n",
        "#El resultado mostrado se obtiene porque con el ciclo for solicitamos que recorra\n",
        "#la lista \"notas\" y nos las imprima"
      ],
      "metadata": {
        "colab": {
          "base_uri": "https://localhost:8080/"
        },
        "id": "ZJY9lrjWyhE7",
        "outputId": "6f30d5f1-061c-4e00-d621-6a0909e592ee"
      },
      "execution_count": 17,
      "outputs": [
        {
          "output_type": "stream",
          "name": "stdout",
          "text": [
            "4.0\n",
            "4.3\n",
            "5.0\n"
          ]
        }
      ]
    },
    {
      "cell_type": "markdown",
      "source": [
        "# **Pregunta 4**"
      ],
      "metadata": {
        "id": "JLZQjbJs0mXZ"
      }
    },
    {
      "cell_type": "code",
      "source": [
        "people = [\n",
        "    {\"name\": \"Carter\", \"number\": \"+1-617-495-1000\"}, # se crea un lista que contiene 3 diccionarios con 2 valores cada uno y su respectiva clave\n",
        "    {\"name\": \"David\", \"number\": \"+1-617-495-1000\"},\n",
        "    {\"name\": \"John\", \"number\": \"+1-949-468-2750\"}\n",
        "]\n",
        "\n",
        "name = input(\"Name: \") # se solicita al usuario que ingrese un nombre\n",
        "\n",
        "for person in people:\n",
        "    if person[\"name\"] == name: # Evalua si el nombre ingresado por el usuario esta en la lista\n",
        "        number = person[\"number\"]\n",
        "        print(f\"Found {number}\") #si el nombre igresado esta en lista imprime \"Found y el numero telefonico correspondiente\"\n",
        "        break\n",
        "else:\n",
        "    print(\"Not found\") # Si el nombre ingresado por el usuario no esta en lista imprime \"Not Found\""
      ],
      "metadata": {
        "colab": {
          "base_uri": "https://localhost:8080/"
        },
        "id": "KUXBYUtI0o0B",
        "outputId": "5356c7aa-df81-4578-88bb-4f36f76c9ff4"
      },
      "execution_count": 19,
      "outputs": [
        {
          "output_type": "stream",
          "name": "stdout",
          "text": [
            "Name: Carter\n",
            "Found +1-617-495-1000\n"
          ]
        }
      ]
    }
  ]
}